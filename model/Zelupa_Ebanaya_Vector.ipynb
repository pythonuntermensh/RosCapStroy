{
  "cells": [
    {
      "cell_type": "code",
      "execution_count": null,
      "metadata": {
        "id": "xSBx8r6mBVNn",
        "colab": {
          "base_uri": "https://localhost:8080/"
        },
        "outputId": "2b81a1e4-8ff2-4661-958f-4b51ca456693"
      },
      "outputs": [
        {
          "output_type": "stream",
          "name": "stderr",
          "text": [
            "[nltk_data] Downloading package stopwords to /root/nltk_data...\n",
            "[nltk_data]   Package stopwords is already up-to-date!\n",
            "[nltk_data] Downloading package punkt to /root/nltk_data...\n",
            "[nltk_data]   Package punkt is already up-to-date!\n"
          ]
        }
      ],
      "source": [
        "import warnings\n",
        "warnings.simplefilter(action='ignore', category=FutureWarning)\n",
        "\n",
        "import re, string\n",
        "import pandas as pd\n",
        "import numpy as np\n",
        "from tqdm.auto import tqdm, trange\n",
        "\n",
        "import nltk\n",
        "nltk.download('stopwords')\n",
        "\n",
        "from nltk import word_tokenize\n",
        "nltk.download('punkt')\n",
        "\n",
        "from nltk.stem import *\n",
        "from nltk.stem.snowball import SnowballStemmer\n",
        "from nltk.corpus import stopwords\n",
        "\n",
        "from pymystem3 import Mystem\n",
        "from string import punctuation\n",
        "\n",
        "from sklearn.model_selection import train_test_split\n",
        "from sklearn.pipeline import Pipeline\n",
        "from sklearn.feature_extraction.text import TfidfTransformer\n",
        "from sklearn.feature_extraction.text import CountVectorizer\n",
        "from sklearn.linear_model import LogisticRegression\n",
        "from sklearn.metrics import accuracy_score\n",
        "from sklearn.metrics import classification_report"
      ]
    },
    {
      "cell_type": "code",
      "source": [
        "def preprocess_data(df_1):\n",
        "\n",
        "  # Preparation\n",
        "  def remove_stickers(text):\n",
        "    if text != text:\n",
        "      return np.nan\n",
        "    # Паттерн для поиска стикеров в формате [стикер]\n",
        "    pattern = r\"[^\\w.!?,:;$\\s/\\\"\\']*\"\n",
        "    cleaned_text = re.sub(pattern, \"\", str(text))\n",
        "    return cleaned_text\n",
        "\n",
        "  def remove_punctuation(text):\n",
        "      return \"\".join([ch if ch not in string.punctuation else ' ' for ch in text])\n",
        "\n",
        "  def remove_numbers(text):\n",
        "      return ''.join([i if not i.isdigit() else ' ' for i in text])\n",
        "\n",
        "  def remove_multiple_spaces(text):\n",
        "    return re.sub(r'\\s+', ' ', text, flags=re.I)\n",
        "\n",
        "  mystem = Mystem()\n",
        "  russian_stopwords = stopwords.words(\"russian\")\n",
        "  russian_stopwords.extend(['…', '«', '»', '...'])\n",
        "  def lemmatize_text(text):\n",
        "      tokens = mystem.lemmatize(text.lower())\n",
        "      tokens = [token for token in tokens if token not in russian_stopwords and token != \" \"]\n",
        "      text = \" \".join(tokens)\n",
        "      return text\n",
        "\n",
        "  russian_stopwords = stopwords.words(\"russian\")\n",
        "  russian_stopwords.extend(['…', '«', '»', '...', 'т.д.', 'т', 'д'])\n",
        "  def remove_stop_words(text):\n",
        "    tokens = word_tokenize(text)\n",
        "    tokens = [token for token in tokens if token not in russian_stopwords and token != ' ']\n",
        "    return \" \".join(tokens)\n",
        "\n",
        "  def lemmatize_text(text):\n",
        "    text_lem = mystem.lemmatize(text)\n",
        "    tokens = [token for token in text_lem if token != ' ' and token not in russian_stopwords]\n",
        "    return \" \".join(tokens)\n",
        "\n",
        "  # Removing rows with blank cells and NaN's\n",
        "  df_1 = df_1.replace(r'^s*$', float('NaN'), regex = True)\n",
        "  df_1 = df_1.dropna(subset=['Text'])\n",
        "\n",
        "  # Shuffling\n",
        "  df_1 = df_1.reset_index()\n",
        "  df_1 = df_1.drop(['index'], axis=1)\n",
        "\n",
        "  # Removing Stickers\n",
        "  for i in range(df_1.shape[0]):\n",
        "    df_1['Text'][i] = remove_stickers(str(df_1['Text'][i]))\n",
        "\n",
        "  # Fast preproccessing\n",
        "  preproccessing = lambda text: (remove_multiple_spaces(remove_numbers(remove_punctuation(text.lower()))))\n",
        "  df_1['Preproccessed'] = list(map(preproccessing, df_1['Text']))\n",
        "\n",
        "  # Stemming\n",
        "  stemmer = SnowballStemmer(\"russian\")\n",
        "  stemmed_texts_list = []\n",
        "  for text in tqdm(df_1['Preproccessed']):\n",
        "      tokens = word_tokenize(text)\n",
        "      stemmed_tokens = [stemmer.stem(token) for token in tokens if token not in russian_stopwords]\n",
        "      text = \" \".join(stemmed_tokens)\n",
        "      stemmed_texts_list.append(text)\n",
        "\n",
        "  df_1['text_stem'] = stemmed_texts_list\n",
        "\n",
        "  # Removing stop words\n",
        "  sw_texts_list = []\n",
        "  for text in tqdm(df_1['Preproccessed']):\n",
        "      text = remove_stop_words(text)\n",
        "      sw_texts_list.append(text)\n",
        "\n",
        "  df_1['text_sw'] = sw_texts_list\n",
        "\n",
        "  # Lemmatize\n",
        "  lemm_texts_list = []\n",
        "  for text in tqdm(df_1['text_sw']):\n",
        "      try:\n",
        "          text = lemmatize_text(text)\n",
        "          lemm_texts_list.append(text)\n",
        "      except Exception as e:\n",
        "          print(e)\n",
        "\n",
        "  df_1['text_lemm'] = lemm_texts_list\n",
        "\n",
        "  return df_1"
      ],
      "metadata": {
        "id": "wfNsnHNNFwXa"
      },
      "execution_count": null,
      "outputs": []
    },
    {
      "cell_type": "code",
      "source": [
        "def build_data_frame():\n",
        "  data = pd.read_excel(\"Датасет.xlsx\")\n",
        "\n",
        "  df = pd.DataFrame()\n",
        "  df.loc[:, 'responsibilities'] = data['responsibilities(Должностные обязанности)']\n",
        "  df.loc[:, 'requirements'] = data['requirements(Требования к соискателю)']\n",
        "  df.loc[:, 'terms'] = data['terms(Условия)']\n",
        "  df.loc[:, 'notes'] = data['notes(Примечания)']\n",
        "\n",
        "  for i in range(df.shape[0]):\n",
        "    df['responsibilities'][i] = df['responsibilities'][i].replace(str(df['requirements'][i]), \"\")\n",
        "    df['responsibilities'][i] = df['responsibilities'][i].replace(str(df['terms'][i]), \"\")\n",
        "    df['responsibilities'][i] = df['responsibilities'][i].replace(str(df['notes'][i]), \"\")\n",
        "\n",
        "\n",
        "  df_1 = pd.DataFrame(columns = [\"Text\", \"Class\", \"Preproccessed\"])\n",
        "\n",
        "  for x in df['responsibilities']:\n",
        "    df_1 = df_1.append({\"Text\": x, \"Class\": \"responsibilities\", \"Preproccessed\": np.nan}, ignore_index=True)\n",
        "\n",
        "  for x in df['requirements']:\n",
        "    df_1 = df_1.append({\"Text\": x, \"Class\": \"requirements\", \"Preproccessed\": np.nan}, ignore_index=True)\n",
        "\n",
        "  for x in df['terms']:\n",
        "    df_1 = df_1.append({\"Text\": x, \"Class\": \"terms\", \"Preproccessed\": np.nan}, ignore_index=True)\n",
        "\n",
        "  for x in df['notes']:\n",
        "    df_1 = df_1.append({\"Text\": x, \"Class\": \"notes\", \"Preproccessed\": np.nan}, ignore_index=True)\n",
        "\n",
        "  df_add = pd.read_csv(\"file_w.csv\")\n",
        "  #df_add_terms = pd.read_csv(\"file_terms.csv\")\n",
        "  #df_add_terms = df_add_terms.replace('Terms','terms')\n",
        "  df_2 = pd.concat([df_1, df_add], ignore_index=True)\n",
        "\n",
        "  return df_2"
      ],
      "metadata": {
        "id": "9ZHrU49jxV-j"
      },
      "execution_count": null,
      "outputs": []
    },
    {
      "cell_type": "code",
      "source": [
        "def train(print_accuracy=False):\n",
        "  # Building data frame\n",
        "\n",
        "  df_1 = build_data_frame()\n",
        "  df_1 = preprocess_data(df_1)\n",
        "\n",
        "  # Building model/pipeline\n",
        "\n",
        "  #X = df_1['text_lemm']\n",
        "  X = df_1['text_sw']\n",
        "  y = df_1['Class']\n",
        "\n",
        "  X_train, X_test, y_train, y_test = train_test_split(X, y, test_size=0.3, random_state = 42)\n",
        "  classes = df_1['Class'].unique()\n",
        "\n",
        "  logreg = Pipeline([('vect', CountVectorizer()),\n",
        "                ('tfidf', TfidfTransformer()),\n",
        "                ('clf', LogisticRegression(n_jobs=1, C=1e5, max_iter=50)),\n",
        "               ])\n",
        "  logreg.fit(X_train, y_train)\n",
        "\n",
        "  if print_accuracy:\n",
        "    y_pred = logreg.predict(X_test)\n",
        "    print('accuracy %s' % accuracy_score(y_pred, y_test))\n",
        "    print(classification_report(y_test, y_pred,target_names=classes))\n",
        "\n",
        "  return logreg"
      ],
      "metadata": {
        "id": "RI8Dvh4UOHZw"
      },
      "execution_count": 83,
      "outputs": []
    },
    {
      "cell_type": "code",
      "source": [
        "import pickle\n",
        "\n",
        "if __name__ == '__main__':\n",
        "\tmodel = train(print_accuracy=True)\n",
        "\n",
        "\tfilename = 'model_v1.pk'\n",
        "\twith open(filename, 'wb') as file:\n",
        "\t\tpickle.dump(model, file)"
      ],
      "metadata": {
        "colab": {
          "base_uri": "https://localhost:8080/",
          "height": 574,
          "referenced_widgets": [
            "e061c9c961334210a575f0d5847da923",
            "d8901e3deb724544a51f4bb400ee1459",
            "0eea632f98864e159280819dbb6538e9",
            "02c4a4606f8744748d2e739737bc33d6",
            "0191c54a08394efb997ebf23123f7aac",
            "9716146f55814198bd6bfcaa95bad282",
            "ac5ac70b51b4492e93ea0466d791040b",
            "d9be87f8ee5a48c2bdd53dcf201513a9",
            "d160c47582224446aae8e1cad25c890d",
            "2193022f6602400e9325c30b185546de",
            "ca739579f8fa4d4682b5a3fdcb788fd5",
            "d956fcf7e3c04038bbb7f08dc02fb399",
            "653be995f6664d169b9e2db7ab2a9632",
            "eb9bcd84573b4e7c872488d0f48104bf",
            "9375bc30be084220a467f14755284511",
            "2622aac427dc47928110dc421e88bc18",
            "3fa1f2b8a03a4ed7bf9411cfeda0779b",
            "9de03f3a4acd42e18f0ef542b9155e0a",
            "d7fea7ec2b5c446c912ba5eb6885dfc6",
            "efa1ae52571c4e56a9ae6c9107d4a175",
            "4bdb0caa98804ff5870746f793d47490",
            "1d10a5feefb3427ca5d9caa2f2a5611f",
            "0152076c75e74af79d9aeae62e572dd7",
            "f18982cd69644830939e16cdd39d5527",
            "dba4344446574e16b4b49128fb228d57",
            "152a2abc007b4368b40fa5e33aecef81",
            "66890ec1b2504cfe81f334d1be57dd8f",
            "0a157d8d7d0e40629fb1125e587a1d47",
            "5141693e32af48468a3360f6dcf72c16",
            "72eb02c053ea44b293a1eb0dcef7f1a8",
            "4f4a0d365c72481390830e1af21e7972",
            "f5832b6ea33145da8c0a4f325beb5420",
            "e4652edd273840d58ca5ed4c022780f5"
          ]
        },
        "id": "VFmz8V5WUruc",
        "outputId": "7d3b5f58-e88d-4ae2-aa83-0640d64071b9"
      },
      "execution_count": 84,
      "outputs": [
        {
          "output_type": "stream",
          "name": "stderr",
          "text": [
            "<ipython-input-13-5b5d354fe18b>:52: SettingWithCopyWarning: \n",
            "A value is trying to be set on a copy of a slice from a DataFrame\n",
            "\n",
            "See the caveats in the documentation: https://pandas.pydata.org/pandas-docs/stable/user_guide/indexing.html#returning-a-view-versus-a-copy\n",
            "  df_1['Text'][i] = remove_stickers(str(df_1['Text'][i]))\n"
          ]
        },
        {
          "output_type": "display_data",
          "data": {
            "text/plain": [
              "  0%|          | 0/3537 [00:00<?, ?it/s]"
            ],
            "application/vnd.jupyter.widget-view+json": {
              "version_major": 2,
              "version_minor": 0,
              "model_id": "e061c9c961334210a575f0d5847da923"
            }
          },
          "metadata": {}
        },
        {
          "output_type": "display_data",
          "data": {
            "text/plain": [
              "  0%|          | 0/3537 [00:00<?, ?it/s]"
            ],
            "application/vnd.jupyter.widget-view+json": {
              "version_major": 2,
              "version_minor": 0,
              "model_id": "d956fcf7e3c04038bbb7f08dc02fb399"
            }
          },
          "metadata": {}
        },
        {
          "output_type": "display_data",
          "data": {
            "text/plain": [
              "  0%|          | 0/3537 [00:00<?, ?it/s]"
            ],
            "application/vnd.jupyter.widget-view+json": {
              "version_major": 2,
              "version_minor": 0,
              "model_id": "0152076c75e74af79d9aeae62e572dd7"
            }
          },
          "metadata": {}
        },
        {
          "output_type": "stream",
          "name": "stdout",
          "text": [
            "accuracy 0.9171374764595104\n",
            "                  precision    recall  f1-score   support\n",
            "\n",
            "responsibilities       0.74      0.63      0.68        51\n",
            "    requirements       0.97      0.88      0.92       333\n",
            "           terms       0.91      0.97      0.94       423\n",
            "           notes       0.90      0.93      0.92       255\n",
            "\n",
            "        accuracy                           0.92      1062\n",
            "       macro avg       0.88      0.85      0.86      1062\n",
            "    weighted avg       0.92      0.92      0.92      1062\n",
            "\n"
          ]
        },
        {
          "output_type": "stream",
          "name": "stderr",
          "text": [
            "/usr/local/lib/python3.10/dist-packages/sklearn/linear_model/_logistic.py:458: ConvergenceWarning: lbfgs failed to converge (status=1):\n",
            "STOP: TOTAL NO. of ITERATIONS REACHED LIMIT.\n",
            "\n",
            "Increase the number of iterations (max_iter) or scale the data as shown in:\n",
            "    https://scikit-learn.org/stable/modules/preprocessing.html\n",
            "Please also refer to the documentation for alternative solver options:\n",
            "    https://scikit-learn.org/stable/modules/linear_model.html#logistic-regression\n",
            "  n_iter_i = _check_optimize_result(\n"
          ]
        }
      ]
    },
    {
      "cell_type": "markdown",
      "source": [
        "# Naive Bayes Classifier"
      ],
      "metadata": {
        "id": "dUQLg6LfyBTQ"
      }
    },
    {
      "cell_type": "code",
      "source": [
        "from sklearn.naive_bayes import MultinomialNB"
      ],
      "metadata": {
        "id": "snMmoHzAs15W"
      },
      "execution_count": null,
      "outputs": []
    },
    {
      "cell_type": "code",
      "source": [
        "nb = Pipeline([('vect', CountVectorizer()),\n",
        "               ('tfidf', TfidfTransformer()),\n",
        "               ('clf', MultinomialNB()),\n",
        "              ])"
      ],
      "metadata": {
        "id": "SCJW-mFQs5RS"
      },
      "execution_count": null,
      "outputs": []
    },
    {
      "cell_type": "code",
      "source": [
        "nb.fit(X_train, y_train)"
      ],
      "metadata": {
        "id": "HEt_g4NQs6eZ"
      },
      "execution_count": null,
      "outputs": []
    },
    {
      "cell_type": "code",
      "source": [
        "y_pred = nb.predict(X_test)"
      ],
      "metadata": {
        "id": "uL91K2VutCXU"
      },
      "execution_count": null,
      "outputs": []
    },
    {
      "cell_type": "code",
      "source": [
        "y_pred[0]"
      ],
      "metadata": {
        "id": "hgy4Qp0RtE6-"
      },
      "execution_count": null,
      "outputs": []
    },
    {
      "cell_type": "code",
      "source": [
        "print('accuracy %s' % accuracy_score(y_pred, y_test))\n",
        "print(classification_report(y_test, y_pred, target_names=classes))\n",
        "\n"
      ],
      "metadata": {
        "id": "VEjl5bySu7Az"
      },
      "execution_count": null,
      "outputs": []
    },
    {
      "cell_type": "markdown",
      "source": [
        "# Linear Support Vector Machine"
      ],
      "metadata": {
        "id": "JR0z8wVqyWiW"
      }
    },
    {
      "cell_type": "code",
      "source": [
        "from sklearn.linear_model import SGDClassifier\n",
        "\n",
        "sgd = Pipeline([('vect', CountVectorizer()),\n",
        "                ('tfidf', TfidfTransformer()),\n",
        "                ('clf', SGDClassifier(loss='hinge', penalty='l2',alpha=1e-3, random_state=42, max_iter=5, tol=None)),\n",
        "               ])"
      ],
      "metadata": {
        "id": "_CcFr0F8yajV"
      },
      "execution_count": null,
      "outputs": []
    },
    {
      "cell_type": "code",
      "source": [
        "sgd.fit(X_train, y_train)"
      ],
      "metadata": {
        "id": "3K5Dv4LMydJW"
      },
      "execution_count": null,
      "outputs": []
    },
    {
      "cell_type": "code",
      "source": [
        "y_pred = sgd.predict(X_test)\n",
        "print('accuracy %s' % accuracy_score(y_pred, y_test))\n",
        "print(classification_report(y_test, y_pred,target_names=classes))"
      ],
      "metadata": {
        "id": "9MlkjH6Fyf4W"
      },
      "execution_count": null,
      "outputs": []
    },
    {
      "cell_type": "markdown",
      "source": [
        "# Logistic Regression"
      ],
      "metadata": {
        "id": "QGse3wp2yttt"
      }
    },
    {
      "cell_type": "code",
      "source": [
        "from sklearn.linear_model import LogisticRegression\n",
        "\n",
        "logreg = Pipeline([('vect', CountVectorizer()),\n",
        "                ('tfidf', TfidfTransformer()),\n",
        "                ('clf', LogisticRegression(n_jobs=1, C=1e5, max_iter=25)),\n",
        "               ])"
      ],
      "metadata": {
        "id": "CNrj3XoWyyxl"
      },
      "execution_count": null,
      "outputs": []
    },
    {
      "cell_type": "code",
      "source": [
        "logreg.fit(X_train, y_train)"
      ],
      "metadata": {
        "id": "bT4ec0Z_y1QX"
      },
      "execution_count": null,
      "outputs": []
    },
    {
      "cell_type": "code",
      "source": [
        "y_pred = logreg.predict(X_test)"
      ],
      "metadata": {
        "id": "wWAF_3yWy5Jj"
      },
      "execution_count": null,
      "outputs": []
    },
    {
      "cell_type": "code",
      "source": [
        "print('accuracy %s' % accuracy_score(y_pred, y_test))\n",
        "print(classification_report(y_test, y_pred,target_names=classes))"
      ],
      "metadata": {
        "id": "79p23bwvzB1b"
      },
      "execution_count": null,
      "outputs": []
    },
    {
      "cell_type": "markdown",
      "source": [
        "# **Функции для подготовки текста к классификации**\n",
        "# Подготовка текста\n",
        "# Классификация текста\n",
        "# Полученире данных в формате категория - текст"
      ],
      "metadata": {
        "id": "AWCtW38s_MoM"
      }
    },
    {
      "cell_type": "code",
      "source": [
        "def prepare_text(text):\n",
        "  delimiters = \"условия\", \"требования\", \"примечания\", \"обязанности\", \";\", \"\\n\"\n",
        "  regex_pattern = '|'.join(map(re.escape, delimiters))\n",
        "  regex_pattern += \"|\" + '(?<!\\w\\.\\w.)(?<![A-Z][a-z]\\.)(?<=\\.|\\?)\\s'\n",
        "  slices =  re.split(regex_pattern, text.lower())\n",
        "\n",
        "  result = []\n",
        "  abbreviation_pattern = re.compile(r'\\b\\w+\\.$')\n",
        "  for sentence in slices:\n",
        "    sentence = re.sub(\"[-|:]\", \" \", sentence)\n",
        "    sentence = sentence.strip().capitalize()\n",
        "    if result and re.match(abbreviation_pattern, sentence):\n",
        "        result[-1] += ' ' + sentence\n",
        "    else:\n",
        "        result.append(sentence)\n",
        "\n",
        "  out = []\n",
        "  for i in result:\n",
        "    i = re.sub(\"[-|:]\",\" \",i)\n",
        "    i = i.strip()\n",
        "    # i = remove_multiple_spaces(remove_numbers(remove_punctuation(i.lower())))\n",
        "    # i = remove_stop_words(i)\n",
        "    # i = lemmatize_text(i)\n",
        "    if i == \"\":\n",
        "      continue\n",
        "    out.append(i)\n",
        "\n",
        "  return out"
      ],
      "metadata": {
        "id": "oR_wXMycAKEE"
      },
      "execution_count": null,
      "outputs": []
    },
    {
      "cell_type": "code",
      "source": [
        "def categorize_text(text, model):\n",
        "  slices = prepare_text(text)\n",
        "\n",
        "  vacancy = {\n",
        "      'responsibilities': [],\n",
        "      'requirements': [],\n",
        "      'terms': [],\n",
        "      'notes': []\n",
        "  }\n",
        "\n",
        "  for text in slices:\n",
        "    pred = model.predict([text])\n",
        "    vacancy[pred[0]].append(text)\n",
        "  return vacancy"
      ],
      "metadata": {
        "id": "Jev7fFU6M0sw"
      },
      "execution_count": null,
      "outputs": []
    },
    {
      "cell_type": "code",
      "source": [
        "def get_final_categories(text):\n",
        "  final_categories = {}\n",
        "  categories = categorize_text(text)\n",
        "  for k, v in categories.items():\n",
        "    final_category_text = \"\\n\".join(v)\n",
        "    final_categories[k] = final_category_text\n",
        "  return final_categories"
      ],
      "metadata": {
        "id": "XH7eDnCj3oWi"
      },
      "execution_count": null,
      "outputs": []
    },
    {
      "cell_type": "code",
      "source": [
        "text = \"Для работы вахтовым методом во Владимирскую область на предприятие по производству автобусов требуются маляры на полуавтомат.  Требования:   - покраска металлов краскопультом и безвоздушным путем.  Вахта 60/30. Оформление по ТК РФ.  График работы 6 дней в неделю по 12 часов в день. Есть как дневные смены, так и ночные.  Стабильная оплата труда.  Проживание в г. Владимире. До предприятия возит служебный автобус.  - компенсация проезда до 2500 руб\"\n",
        "text1 = \"Вахта в город Москва.  Обязанности: - армирование каркаса;  Требования: - опыт в строительстве приветствуется; - работа в бригаде;  Условия: - продолжительность вахты 60/30 (продление вахты возможно); - Официальное трудоустройство; - ЗП в срок и без задержек; - Авансирование дважды в месяц по 15 000 рублей, 15 и 30 числа; - Питание трехразовое за счет организации; - Выдача спецодежды и Сизов без вычета из заработной платы; - Организованные отправки до объекта (покупка билетов); - Помощь в прохождение медицинского осмотра; - Возможность получить квалификационные удостоверения; - Карьерный рост до бригадира/мастера;\"\n",
        "text2 = \"В стабильную, развивающуюся компанию требуются Бетонщики-Арматурщики на строительные объекты в Москве  Рассмотрим кандидатов как с опытом работы, так и без него.  ВАХТОВЫЙ МЕТОД РАБОТЫ 60/30  З/п за месяц - 67 000 на руки  З/п за вахту - 134 000 на руки  Обязанности:  - Армирование, бетонирование;  - Монтаж опалубки.  Требования:  - Соблюдение трудовой и бытовой дисциплины;  Условия:  - ВАХТА! 60/30;  - График работы 7/0 по 11 часов  - Прямой работодатель, ОФИЦИАЛЬНОЕ трудоустройство по ТК РФ  - Выплата заработной платы БЕЗ ЗАДЕРЖЕК. Оплата по часовой ставке , выплачивается стабильно 2 раза в месяц ;  - Проживание за счет компании  - Питание за счет компании  - Спецодежда за счет компании  - Покупаем билеты на вахту/с вахты\"\n",
        "get_final_categories(text1)"
      ],
      "metadata": {
        "id": "VWBt3jgJYU4M"
      },
      "execution_count": null,
      "outputs": []
    }
  ],
  "metadata": {
    "colab": {
      "provenance": [],
      "collapsed_sections": [
        "dUQLg6LfyBTQ",
        "JR0z8wVqyWiW",
        "QGse3wp2yttt"
      ]
    },
    "kernelspec": {
      "display_name": "Python 3",
      "name": "python3"
    },
    "language_info": {
      "name": "python"
    },
    "widgets": {
      "application/vnd.jupyter.widget-state+json": {
        "e061c9c961334210a575f0d5847da923": {
          "model_module": "@jupyter-widgets/controls",
          "model_name": "HBoxModel",
          "model_module_version": "1.5.0",
          "state": {
            "_dom_classes": [],
            "_model_module": "@jupyter-widgets/controls",
            "_model_module_version": "1.5.0",
            "_model_name": "HBoxModel",
            "_view_count": null,
            "_view_module": "@jupyter-widgets/controls",
            "_view_module_version": "1.5.0",
            "_view_name": "HBoxView",
            "box_style": "",
            "children": [
              "IPY_MODEL_d8901e3deb724544a51f4bb400ee1459",
              "IPY_MODEL_0eea632f98864e159280819dbb6538e9",
              "IPY_MODEL_02c4a4606f8744748d2e739737bc33d6"
            ],
            "layout": "IPY_MODEL_0191c54a08394efb997ebf23123f7aac"
          }
        },
        "d8901e3deb724544a51f4bb400ee1459": {
          "model_module": "@jupyter-widgets/controls",
          "model_name": "HTMLModel",
          "model_module_version": "1.5.0",
          "state": {
            "_dom_classes": [],
            "_model_module": "@jupyter-widgets/controls",
            "_model_module_version": "1.5.0",
            "_model_name": "HTMLModel",
            "_view_count": null,
            "_view_module": "@jupyter-widgets/controls",
            "_view_module_version": "1.5.0",
            "_view_name": "HTMLView",
            "description": "",
            "description_tooltip": null,
            "layout": "IPY_MODEL_9716146f55814198bd6bfcaa95bad282",
            "placeholder": "​",
            "style": "IPY_MODEL_ac5ac70b51b4492e93ea0466d791040b",
            "value": "100%"
          }
        },
        "0eea632f98864e159280819dbb6538e9": {
          "model_module": "@jupyter-widgets/controls",
          "model_name": "FloatProgressModel",
          "model_module_version": "1.5.0",
          "state": {
            "_dom_classes": [],
            "_model_module": "@jupyter-widgets/controls",
            "_model_module_version": "1.5.0",
            "_model_name": "FloatProgressModel",
            "_view_count": null,
            "_view_module": "@jupyter-widgets/controls",
            "_view_module_version": "1.5.0",
            "_view_name": "ProgressView",
            "bar_style": "success",
            "description": "",
            "description_tooltip": null,
            "layout": "IPY_MODEL_d9be87f8ee5a48c2bdd53dcf201513a9",
            "max": 3537,
            "min": 0,
            "orientation": "horizontal",
            "style": "IPY_MODEL_d160c47582224446aae8e1cad25c890d",
            "value": 3537
          }
        },
        "02c4a4606f8744748d2e739737bc33d6": {
          "model_module": "@jupyter-widgets/controls",
          "model_name": "HTMLModel",
          "model_module_version": "1.5.0",
          "state": {
            "_dom_classes": [],
            "_model_module": "@jupyter-widgets/controls",
            "_model_module_version": "1.5.0",
            "_model_name": "HTMLModel",
            "_view_count": null,
            "_view_module": "@jupyter-widgets/controls",
            "_view_module_version": "1.5.0",
            "_view_name": "HTMLView",
            "description": "",
            "description_tooltip": null,
            "layout": "IPY_MODEL_2193022f6602400e9325c30b185546de",
            "placeholder": "​",
            "style": "IPY_MODEL_ca739579f8fa4d4682b5a3fdcb788fd5",
            "value": " 3537/3537 [00:07&lt;00:00, 623.36it/s]"
          }
        },
        "0191c54a08394efb997ebf23123f7aac": {
          "model_module": "@jupyter-widgets/base",
          "model_name": "LayoutModel",
          "model_module_version": "1.2.0",
          "state": {
            "_model_module": "@jupyter-widgets/base",
            "_model_module_version": "1.2.0",
            "_model_name": "LayoutModel",
            "_view_count": null,
            "_view_module": "@jupyter-widgets/base",
            "_view_module_version": "1.2.0",
            "_view_name": "LayoutView",
            "align_content": null,
            "align_items": null,
            "align_self": null,
            "border": null,
            "bottom": null,
            "display": null,
            "flex": null,
            "flex_flow": null,
            "grid_area": null,
            "grid_auto_columns": null,
            "grid_auto_flow": null,
            "grid_auto_rows": null,
            "grid_column": null,
            "grid_gap": null,
            "grid_row": null,
            "grid_template_areas": null,
            "grid_template_columns": null,
            "grid_template_rows": null,
            "height": null,
            "justify_content": null,
            "justify_items": null,
            "left": null,
            "margin": null,
            "max_height": null,
            "max_width": null,
            "min_height": null,
            "min_width": null,
            "object_fit": null,
            "object_position": null,
            "order": null,
            "overflow": null,
            "overflow_x": null,
            "overflow_y": null,
            "padding": null,
            "right": null,
            "top": null,
            "visibility": null,
            "width": null
          }
        },
        "9716146f55814198bd6bfcaa95bad282": {
          "model_module": "@jupyter-widgets/base",
          "model_name": "LayoutModel",
          "model_module_version": "1.2.0",
          "state": {
            "_model_module": "@jupyter-widgets/base",
            "_model_module_version": "1.2.0",
            "_model_name": "LayoutModel",
            "_view_count": null,
            "_view_module": "@jupyter-widgets/base",
            "_view_module_version": "1.2.0",
            "_view_name": "LayoutView",
            "align_content": null,
            "align_items": null,
            "align_self": null,
            "border": null,
            "bottom": null,
            "display": null,
            "flex": null,
            "flex_flow": null,
            "grid_area": null,
            "grid_auto_columns": null,
            "grid_auto_flow": null,
            "grid_auto_rows": null,
            "grid_column": null,
            "grid_gap": null,
            "grid_row": null,
            "grid_template_areas": null,
            "grid_template_columns": null,
            "grid_template_rows": null,
            "height": null,
            "justify_content": null,
            "justify_items": null,
            "left": null,
            "margin": null,
            "max_height": null,
            "max_width": null,
            "min_height": null,
            "min_width": null,
            "object_fit": null,
            "object_position": null,
            "order": null,
            "overflow": null,
            "overflow_x": null,
            "overflow_y": null,
            "padding": null,
            "right": null,
            "top": null,
            "visibility": null,
            "width": null
          }
        },
        "ac5ac70b51b4492e93ea0466d791040b": {
          "model_module": "@jupyter-widgets/controls",
          "model_name": "DescriptionStyleModel",
          "model_module_version": "1.5.0",
          "state": {
            "_model_module": "@jupyter-widgets/controls",
            "_model_module_version": "1.5.0",
            "_model_name": "DescriptionStyleModel",
            "_view_count": null,
            "_view_module": "@jupyter-widgets/base",
            "_view_module_version": "1.2.0",
            "_view_name": "StyleView",
            "description_width": ""
          }
        },
        "d9be87f8ee5a48c2bdd53dcf201513a9": {
          "model_module": "@jupyter-widgets/base",
          "model_name": "LayoutModel",
          "model_module_version": "1.2.0",
          "state": {
            "_model_module": "@jupyter-widgets/base",
            "_model_module_version": "1.2.0",
            "_model_name": "LayoutModel",
            "_view_count": null,
            "_view_module": "@jupyter-widgets/base",
            "_view_module_version": "1.2.0",
            "_view_name": "LayoutView",
            "align_content": null,
            "align_items": null,
            "align_self": null,
            "border": null,
            "bottom": null,
            "display": null,
            "flex": null,
            "flex_flow": null,
            "grid_area": null,
            "grid_auto_columns": null,
            "grid_auto_flow": null,
            "grid_auto_rows": null,
            "grid_column": null,
            "grid_gap": null,
            "grid_row": null,
            "grid_template_areas": null,
            "grid_template_columns": null,
            "grid_template_rows": null,
            "height": null,
            "justify_content": null,
            "justify_items": null,
            "left": null,
            "margin": null,
            "max_height": null,
            "max_width": null,
            "min_height": null,
            "min_width": null,
            "object_fit": null,
            "object_position": null,
            "order": null,
            "overflow": null,
            "overflow_x": null,
            "overflow_y": null,
            "padding": null,
            "right": null,
            "top": null,
            "visibility": null,
            "width": null
          }
        },
        "d160c47582224446aae8e1cad25c890d": {
          "model_module": "@jupyter-widgets/controls",
          "model_name": "ProgressStyleModel",
          "model_module_version": "1.5.0",
          "state": {
            "_model_module": "@jupyter-widgets/controls",
            "_model_module_version": "1.5.0",
            "_model_name": "ProgressStyleModel",
            "_view_count": null,
            "_view_module": "@jupyter-widgets/base",
            "_view_module_version": "1.2.0",
            "_view_name": "StyleView",
            "bar_color": null,
            "description_width": ""
          }
        },
        "2193022f6602400e9325c30b185546de": {
          "model_module": "@jupyter-widgets/base",
          "model_name": "LayoutModel",
          "model_module_version": "1.2.0",
          "state": {
            "_model_module": "@jupyter-widgets/base",
            "_model_module_version": "1.2.0",
            "_model_name": "LayoutModel",
            "_view_count": null,
            "_view_module": "@jupyter-widgets/base",
            "_view_module_version": "1.2.0",
            "_view_name": "LayoutView",
            "align_content": null,
            "align_items": null,
            "align_self": null,
            "border": null,
            "bottom": null,
            "display": null,
            "flex": null,
            "flex_flow": null,
            "grid_area": null,
            "grid_auto_columns": null,
            "grid_auto_flow": null,
            "grid_auto_rows": null,
            "grid_column": null,
            "grid_gap": null,
            "grid_row": null,
            "grid_template_areas": null,
            "grid_template_columns": null,
            "grid_template_rows": null,
            "height": null,
            "justify_content": null,
            "justify_items": null,
            "left": null,
            "margin": null,
            "max_height": null,
            "max_width": null,
            "min_height": null,
            "min_width": null,
            "object_fit": null,
            "object_position": null,
            "order": null,
            "overflow": null,
            "overflow_x": null,
            "overflow_y": null,
            "padding": null,
            "right": null,
            "top": null,
            "visibility": null,
            "width": null
          }
        },
        "ca739579f8fa4d4682b5a3fdcb788fd5": {
          "model_module": "@jupyter-widgets/controls",
          "model_name": "DescriptionStyleModel",
          "model_module_version": "1.5.0",
          "state": {
            "_model_module": "@jupyter-widgets/controls",
            "_model_module_version": "1.5.0",
            "_model_name": "DescriptionStyleModel",
            "_view_count": null,
            "_view_module": "@jupyter-widgets/base",
            "_view_module_version": "1.2.0",
            "_view_name": "StyleView",
            "description_width": ""
          }
        },
        "d956fcf7e3c04038bbb7f08dc02fb399": {
          "model_module": "@jupyter-widgets/controls",
          "model_name": "HBoxModel",
          "model_module_version": "1.5.0",
          "state": {
            "_dom_classes": [],
            "_model_module": "@jupyter-widgets/controls",
            "_model_module_version": "1.5.0",
            "_model_name": "HBoxModel",
            "_view_count": null,
            "_view_module": "@jupyter-widgets/controls",
            "_view_module_version": "1.5.0",
            "_view_name": "HBoxView",
            "box_style": "",
            "children": [
              "IPY_MODEL_653be995f6664d169b9e2db7ab2a9632",
              "IPY_MODEL_eb9bcd84573b4e7c872488d0f48104bf",
              "IPY_MODEL_9375bc30be084220a467f14755284511"
            ],
            "layout": "IPY_MODEL_2622aac427dc47928110dc421e88bc18"
          }
        },
        "653be995f6664d169b9e2db7ab2a9632": {
          "model_module": "@jupyter-widgets/controls",
          "model_name": "HTMLModel",
          "model_module_version": "1.5.0",
          "state": {
            "_dom_classes": [],
            "_model_module": "@jupyter-widgets/controls",
            "_model_module_version": "1.5.0",
            "_model_name": "HTMLModel",
            "_view_count": null,
            "_view_module": "@jupyter-widgets/controls",
            "_view_module_version": "1.5.0",
            "_view_name": "HTMLView",
            "description": "",
            "description_tooltip": null,
            "layout": "IPY_MODEL_3fa1f2b8a03a4ed7bf9411cfeda0779b",
            "placeholder": "​",
            "style": "IPY_MODEL_9de03f3a4acd42e18f0ef542b9155e0a",
            "value": "100%"
          }
        },
        "eb9bcd84573b4e7c872488d0f48104bf": {
          "model_module": "@jupyter-widgets/controls",
          "model_name": "FloatProgressModel",
          "model_module_version": "1.5.0",
          "state": {
            "_dom_classes": [],
            "_model_module": "@jupyter-widgets/controls",
            "_model_module_version": "1.5.0",
            "_model_name": "FloatProgressModel",
            "_view_count": null,
            "_view_module": "@jupyter-widgets/controls",
            "_view_module_version": "1.5.0",
            "_view_name": "ProgressView",
            "bar_style": "success",
            "description": "",
            "description_tooltip": null,
            "layout": "IPY_MODEL_d7fea7ec2b5c446c912ba5eb6885dfc6",
            "max": 3537,
            "min": 0,
            "orientation": "horizontal",
            "style": "IPY_MODEL_efa1ae52571c4e56a9ae6c9107d4a175",
            "value": 3537
          }
        },
        "9375bc30be084220a467f14755284511": {
          "model_module": "@jupyter-widgets/controls",
          "model_name": "HTMLModel",
          "model_module_version": "1.5.0",
          "state": {
            "_dom_classes": [],
            "_model_module": "@jupyter-widgets/controls",
            "_model_module_version": "1.5.0",
            "_model_name": "HTMLModel",
            "_view_count": null,
            "_view_module": "@jupyter-widgets/controls",
            "_view_module_version": "1.5.0",
            "_view_name": "HTMLView",
            "description": "",
            "description_tooltip": null,
            "layout": "IPY_MODEL_4bdb0caa98804ff5870746f793d47490",
            "placeholder": "​",
            "style": "IPY_MODEL_1d10a5feefb3427ca5d9caa2f2a5611f",
            "value": " 3537/3537 [00:01&lt;00:00, 3852.74it/s]"
          }
        },
        "2622aac427dc47928110dc421e88bc18": {
          "model_module": "@jupyter-widgets/base",
          "model_name": "LayoutModel",
          "model_module_version": "1.2.0",
          "state": {
            "_model_module": "@jupyter-widgets/base",
            "_model_module_version": "1.2.0",
            "_model_name": "LayoutModel",
            "_view_count": null,
            "_view_module": "@jupyter-widgets/base",
            "_view_module_version": "1.2.0",
            "_view_name": "LayoutView",
            "align_content": null,
            "align_items": null,
            "align_self": null,
            "border": null,
            "bottom": null,
            "display": null,
            "flex": null,
            "flex_flow": null,
            "grid_area": null,
            "grid_auto_columns": null,
            "grid_auto_flow": null,
            "grid_auto_rows": null,
            "grid_column": null,
            "grid_gap": null,
            "grid_row": null,
            "grid_template_areas": null,
            "grid_template_columns": null,
            "grid_template_rows": null,
            "height": null,
            "justify_content": null,
            "justify_items": null,
            "left": null,
            "margin": null,
            "max_height": null,
            "max_width": null,
            "min_height": null,
            "min_width": null,
            "object_fit": null,
            "object_position": null,
            "order": null,
            "overflow": null,
            "overflow_x": null,
            "overflow_y": null,
            "padding": null,
            "right": null,
            "top": null,
            "visibility": null,
            "width": null
          }
        },
        "3fa1f2b8a03a4ed7bf9411cfeda0779b": {
          "model_module": "@jupyter-widgets/base",
          "model_name": "LayoutModel",
          "model_module_version": "1.2.0",
          "state": {
            "_model_module": "@jupyter-widgets/base",
            "_model_module_version": "1.2.0",
            "_model_name": "LayoutModel",
            "_view_count": null,
            "_view_module": "@jupyter-widgets/base",
            "_view_module_version": "1.2.0",
            "_view_name": "LayoutView",
            "align_content": null,
            "align_items": null,
            "align_self": null,
            "border": null,
            "bottom": null,
            "display": null,
            "flex": null,
            "flex_flow": null,
            "grid_area": null,
            "grid_auto_columns": null,
            "grid_auto_flow": null,
            "grid_auto_rows": null,
            "grid_column": null,
            "grid_gap": null,
            "grid_row": null,
            "grid_template_areas": null,
            "grid_template_columns": null,
            "grid_template_rows": null,
            "height": null,
            "justify_content": null,
            "justify_items": null,
            "left": null,
            "margin": null,
            "max_height": null,
            "max_width": null,
            "min_height": null,
            "min_width": null,
            "object_fit": null,
            "object_position": null,
            "order": null,
            "overflow": null,
            "overflow_x": null,
            "overflow_y": null,
            "padding": null,
            "right": null,
            "top": null,
            "visibility": null,
            "width": null
          }
        },
        "9de03f3a4acd42e18f0ef542b9155e0a": {
          "model_module": "@jupyter-widgets/controls",
          "model_name": "DescriptionStyleModel",
          "model_module_version": "1.5.0",
          "state": {
            "_model_module": "@jupyter-widgets/controls",
            "_model_module_version": "1.5.0",
            "_model_name": "DescriptionStyleModel",
            "_view_count": null,
            "_view_module": "@jupyter-widgets/base",
            "_view_module_version": "1.2.0",
            "_view_name": "StyleView",
            "description_width": ""
          }
        },
        "d7fea7ec2b5c446c912ba5eb6885dfc6": {
          "model_module": "@jupyter-widgets/base",
          "model_name": "LayoutModel",
          "model_module_version": "1.2.0",
          "state": {
            "_model_module": "@jupyter-widgets/base",
            "_model_module_version": "1.2.0",
            "_model_name": "LayoutModel",
            "_view_count": null,
            "_view_module": "@jupyter-widgets/base",
            "_view_module_version": "1.2.0",
            "_view_name": "LayoutView",
            "align_content": null,
            "align_items": null,
            "align_self": null,
            "border": null,
            "bottom": null,
            "display": null,
            "flex": null,
            "flex_flow": null,
            "grid_area": null,
            "grid_auto_columns": null,
            "grid_auto_flow": null,
            "grid_auto_rows": null,
            "grid_column": null,
            "grid_gap": null,
            "grid_row": null,
            "grid_template_areas": null,
            "grid_template_columns": null,
            "grid_template_rows": null,
            "height": null,
            "justify_content": null,
            "justify_items": null,
            "left": null,
            "margin": null,
            "max_height": null,
            "max_width": null,
            "min_height": null,
            "min_width": null,
            "object_fit": null,
            "object_position": null,
            "order": null,
            "overflow": null,
            "overflow_x": null,
            "overflow_y": null,
            "padding": null,
            "right": null,
            "top": null,
            "visibility": null,
            "width": null
          }
        },
        "efa1ae52571c4e56a9ae6c9107d4a175": {
          "model_module": "@jupyter-widgets/controls",
          "model_name": "ProgressStyleModel",
          "model_module_version": "1.5.0",
          "state": {
            "_model_module": "@jupyter-widgets/controls",
            "_model_module_version": "1.5.0",
            "_model_name": "ProgressStyleModel",
            "_view_count": null,
            "_view_module": "@jupyter-widgets/base",
            "_view_module_version": "1.2.0",
            "_view_name": "StyleView",
            "bar_color": null,
            "description_width": ""
          }
        },
        "4bdb0caa98804ff5870746f793d47490": {
          "model_module": "@jupyter-widgets/base",
          "model_name": "LayoutModel",
          "model_module_version": "1.2.0",
          "state": {
            "_model_module": "@jupyter-widgets/base",
            "_model_module_version": "1.2.0",
            "_model_name": "LayoutModel",
            "_view_count": null,
            "_view_module": "@jupyter-widgets/base",
            "_view_module_version": "1.2.0",
            "_view_name": "LayoutView",
            "align_content": null,
            "align_items": null,
            "align_self": null,
            "border": null,
            "bottom": null,
            "display": null,
            "flex": null,
            "flex_flow": null,
            "grid_area": null,
            "grid_auto_columns": null,
            "grid_auto_flow": null,
            "grid_auto_rows": null,
            "grid_column": null,
            "grid_gap": null,
            "grid_row": null,
            "grid_template_areas": null,
            "grid_template_columns": null,
            "grid_template_rows": null,
            "height": null,
            "justify_content": null,
            "justify_items": null,
            "left": null,
            "margin": null,
            "max_height": null,
            "max_width": null,
            "min_height": null,
            "min_width": null,
            "object_fit": null,
            "object_position": null,
            "order": null,
            "overflow": null,
            "overflow_x": null,
            "overflow_y": null,
            "padding": null,
            "right": null,
            "top": null,
            "visibility": null,
            "width": null
          }
        },
        "1d10a5feefb3427ca5d9caa2f2a5611f": {
          "model_module": "@jupyter-widgets/controls",
          "model_name": "DescriptionStyleModel",
          "model_module_version": "1.5.0",
          "state": {
            "_model_module": "@jupyter-widgets/controls",
            "_model_module_version": "1.5.0",
            "_model_name": "DescriptionStyleModel",
            "_view_count": null,
            "_view_module": "@jupyter-widgets/base",
            "_view_module_version": "1.2.0",
            "_view_name": "StyleView",
            "description_width": ""
          }
        },
        "0152076c75e74af79d9aeae62e572dd7": {
          "model_module": "@jupyter-widgets/controls",
          "model_name": "HBoxModel",
          "model_module_version": "1.5.0",
          "state": {
            "_dom_classes": [],
            "_model_module": "@jupyter-widgets/controls",
            "_model_module_version": "1.5.0",
            "_model_name": "HBoxModel",
            "_view_count": null,
            "_view_module": "@jupyter-widgets/controls",
            "_view_module_version": "1.5.0",
            "_view_name": "HBoxView",
            "box_style": "",
            "children": [
              "IPY_MODEL_f18982cd69644830939e16cdd39d5527",
              "IPY_MODEL_dba4344446574e16b4b49128fb228d57",
              "IPY_MODEL_152a2abc007b4368b40fa5e33aecef81"
            ],
            "layout": "IPY_MODEL_66890ec1b2504cfe81f334d1be57dd8f"
          }
        },
        "f18982cd69644830939e16cdd39d5527": {
          "model_module": "@jupyter-widgets/controls",
          "model_name": "HTMLModel",
          "model_module_version": "1.5.0",
          "state": {
            "_dom_classes": [],
            "_model_module": "@jupyter-widgets/controls",
            "_model_module_version": "1.5.0",
            "_model_name": "HTMLModel",
            "_view_count": null,
            "_view_module": "@jupyter-widgets/controls",
            "_view_module_version": "1.5.0",
            "_view_name": "HTMLView",
            "description": "",
            "description_tooltip": null,
            "layout": "IPY_MODEL_0a157d8d7d0e40629fb1125e587a1d47",
            "placeholder": "​",
            "style": "IPY_MODEL_5141693e32af48468a3360f6dcf72c16",
            "value": "100%"
          }
        },
        "dba4344446574e16b4b49128fb228d57": {
          "model_module": "@jupyter-widgets/controls",
          "model_name": "FloatProgressModel",
          "model_module_version": "1.5.0",
          "state": {
            "_dom_classes": [],
            "_model_module": "@jupyter-widgets/controls",
            "_model_module_version": "1.5.0",
            "_model_name": "FloatProgressModel",
            "_view_count": null,
            "_view_module": "@jupyter-widgets/controls",
            "_view_module_version": "1.5.0",
            "_view_name": "ProgressView",
            "bar_style": "success",
            "description": "",
            "description_tooltip": null,
            "layout": "IPY_MODEL_72eb02c053ea44b293a1eb0dcef7f1a8",
            "max": 3537,
            "min": 0,
            "orientation": "horizontal",
            "style": "IPY_MODEL_4f4a0d365c72481390830e1af21e7972",
            "value": 3537
          }
        },
        "152a2abc007b4368b40fa5e33aecef81": {
          "model_module": "@jupyter-widgets/controls",
          "model_name": "HTMLModel",
          "model_module_version": "1.5.0",
          "state": {
            "_dom_classes": [],
            "_model_module": "@jupyter-widgets/controls",
            "_model_module_version": "1.5.0",
            "_model_name": "HTMLModel",
            "_view_count": null,
            "_view_module": "@jupyter-widgets/controls",
            "_view_module_version": "1.5.0",
            "_view_name": "HTMLView",
            "description": "",
            "description_tooltip": null,
            "layout": "IPY_MODEL_f5832b6ea33145da8c0a4f325beb5420",
            "placeholder": "​",
            "style": "IPY_MODEL_e4652edd273840d58ca5ed4c022780f5",
            "value": " 3537/3537 [00:04&lt;00:00, 1384.26it/s]"
          }
        },
        "66890ec1b2504cfe81f334d1be57dd8f": {
          "model_module": "@jupyter-widgets/base",
          "model_name": "LayoutModel",
          "model_module_version": "1.2.0",
          "state": {
            "_model_module": "@jupyter-widgets/base",
            "_model_module_version": "1.2.0",
            "_model_name": "LayoutModel",
            "_view_count": null,
            "_view_module": "@jupyter-widgets/base",
            "_view_module_version": "1.2.0",
            "_view_name": "LayoutView",
            "align_content": null,
            "align_items": null,
            "align_self": null,
            "border": null,
            "bottom": null,
            "display": null,
            "flex": null,
            "flex_flow": null,
            "grid_area": null,
            "grid_auto_columns": null,
            "grid_auto_flow": null,
            "grid_auto_rows": null,
            "grid_column": null,
            "grid_gap": null,
            "grid_row": null,
            "grid_template_areas": null,
            "grid_template_columns": null,
            "grid_template_rows": null,
            "height": null,
            "justify_content": null,
            "justify_items": null,
            "left": null,
            "margin": null,
            "max_height": null,
            "max_width": null,
            "min_height": null,
            "min_width": null,
            "object_fit": null,
            "object_position": null,
            "order": null,
            "overflow": null,
            "overflow_x": null,
            "overflow_y": null,
            "padding": null,
            "right": null,
            "top": null,
            "visibility": null,
            "width": null
          }
        },
        "0a157d8d7d0e40629fb1125e587a1d47": {
          "model_module": "@jupyter-widgets/base",
          "model_name": "LayoutModel",
          "model_module_version": "1.2.0",
          "state": {
            "_model_module": "@jupyter-widgets/base",
            "_model_module_version": "1.2.0",
            "_model_name": "LayoutModel",
            "_view_count": null,
            "_view_module": "@jupyter-widgets/base",
            "_view_module_version": "1.2.0",
            "_view_name": "LayoutView",
            "align_content": null,
            "align_items": null,
            "align_self": null,
            "border": null,
            "bottom": null,
            "display": null,
            "flex": null,
            "flex_flow": null,
            "grid_area": null,
            "grid_auto_columns": null,
            "grid_auto_flow": null,
            "grid_auto_rows": null,
            "grid_column": null,
            "grid_gap": null,
            "grid_row": null,
            "grid_template_areas": null,
            "grid_template_columns": null,
            "grid_template_rows": null,
            "height": null,
            "justify_content": null,
            "justify_items": null,
            "left": null,
            "margin": null,
            "max_height": null,
            "max_width": null,
            "min_height": null,
            "min_width": null,
            "object_fit": null,
            "object_position": null,
            "order": null,
            "overflow": null,
            "overflow_x": null,
            "overflow_y": null,
            "padding": null,
            "right": null,
            "top": null,
            "visibility": null,
            "width": null
          }
        },
        "5141693e32af48468a3360f6dcf72c16": {
          "model_module": "@jupyter-widgets/controls",
          "model_name": "DescriptionStyleModel",
          "model_module_version": "1.5.0",
          "state": {
            "_model_module": "@jupyter-widgets/controls",
            "_model_module_version": "1.5.0",
            "_model_name": "DescriptionStyleModel",
            "_view_count": null,
            "_view_module": "@jupyter-widgets/base",
            "_view_module_version": "1.2.0",
            "_view_name": "StyleView",
            "description_width": ""
          }
        },
        "72eb02c053ea44b293a1eb0dcef7f1a8": {
          "model_module": "@jupyter-widgets/base",
          "model_name": "LayoutModel",
          "model_module_version": "1.2.0",
          "state": {
            "_model_module": "@jupyter-widgets/base",
            "_model_module_version": "1.2.0",
            "_model_name": "LayoutModel",
            "_view_count": null,
            "_view_module": "@jupyter-widgets/base",
            "_view_module_version": "1.2.0",
            "_view_name": "LayoutView",
            "align_content": null,
            "align_items": null,
            "align_self": null,
            "border": null,
            "bottom": null,
            "display": null,
            "flex": null,
            "flex_flow": null,
            "grid_area": null,
            "grid_auto_columns": null,
            "grid_auto_flow": null,
            "grid_auto_rows": null,
            "grid_column": null,
            "grid_gap": null,
            "grid_row": null,
            "grid_template_areas": null,
            "grid_template_columns": null,
            "grid_template_rows": null,
            "height": null,
            "justify_content": null,
            "justify_items": null,
            "left": null,
            "margin": null,
            "max_height": null,
            "max_width": null,
            "min_height": null,
            "min_width": null,
            "object_fit": null,
            "object_position": null,
            "order": null,
            "overflow": null,
            "overflow_x": null,
            "overflow_y": null,
            "padding": null,
            "right": null,
            "top": null,
            "visibility": null,
            "width": null
          }
        },
        "4f4a0d365c72481390830e1af21e7972": {
          "model_module": "@jupyter-widgets/controls",
          "model_name": "ProgressStyleModel",
          "model_module_version": "1.5.0",
          "state": {
            "_model_module": "@jupyter-widgets/controls",
            "_model_module_version": "1.5.0",
            "_model_name": "ProgressStyleModel",
            "_view_count": null,
            "_view_module": "@jupyter-widgets/base",
            "_view_module_version": "1.2.0",
            "_view_name": "StyleView",
            "bar_color": null,
            "description_width": ""
          }
        },
        "f5832b6ea33145da8c0a4f325beb5420": {
          "model_module": "@jupyter-widgets/base",
          "model_name": "LayoutModel",
          "model_module_version": "1.2.0",
          "state": {
            "_model_module": "@jupyter-widgets/base",
            "_model_module_version": "1.2.0",
            "_model_name": "LayoutModel",
            "_view_count": null,
            "_view_module": "@jupyter-widgets/base",
            "_view_module_version": "1.2.0",
            "_view_name": "LayoutView",
            "align_content": null,
            "align_items": null,
            "align_self": null,
            "border": null,
            "bottom": null,
            "display": null,
            "flex": null,
            "flex_flow": null,
            "grid_area": null,
            "grid_auto_columns": null,
            "grid_auto_flow": null,
            "grid_auto_rows": null,
            "grid_column": null,
            "grid_gap": null,
            "grid_row": null,
            "grid_template_areas": null,
            "grid_template_columns": null,
            "grid_template_rows": null,
            "height": null,
            "justify_content": null,
            "justify_items": null,
            "left": null,
            "margin": null,
            "max_height": null,
            "max_width": null,
            "min_height": null,
            "min_width": null,
            "object_fit": null,
            "object_position": null,
            "order": null,
            "overflow": null,
            "overflow_x": null,
            "overflow_y": null,
            "padding": null,
            "right": null,
            "top": null,
            "visibility": null,
            "width": null
          }
        },
        "e4652edd273840d58ca5ed4c022780f5": {
          "model_module": "@jupyter-widgets/controls",
          "model_name": "DescriptionStyleModel",
          "model_module_version": "1.5.0",
          "state": {
            "_model_module": "@jupyter-widgets/controls",
            "_model_module_version": "1.5.0",
            "_model_name": "DescriptionStyleModel",
            "_view_count": null,
            "_view_module": "@jupyter-widgets/base",
            "_view_module_version": "1.2.0",
            "_view_name": "StyleView",
            "description_width": ""
          }
        }
      }
    }
  },
  "nbformat": 4,
  "nbformat_minor": 0
}